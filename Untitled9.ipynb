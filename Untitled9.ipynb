{
  "nbformat": 4,
  "nbformat_minor": 0,
  "metadata": {
    "colab": {
      "provenance": [],
      "authorship_tag": "ABX9TyO2R3Ver9E3zJ9HbcG3QTg7",
      "include_colab_link": true
    },
    "kernelspec": {
      "name": "python3",
      "display_name": "Python 3"
    },
    "language_info": {
      "name": "python"
    }
  },
  "cells": [
    {
      "cell_type": "markdown",
      "metadata": {
        "id": "view-in-github",
        "colab_type": "text"
      },
      "source": [
        "<a href=\"https://colab.research.google.com/github/jnagyeonjun/yeon/blob/main/Untitled9.ipynb\" target=\"_parent\"><img src=\"https://colab.research.google.com/assets/colab-badge.svg\" alt=\"Open In Colab\"/></a>"
      ]
    },
    {
      "cell_type": "code",
      "execution_count": 11,
      "metadata": {
        "colab": {
          "base_uri": "https://localhost:8080/"
        },
        "id": "9D8093ug2oYu",
        "outputId": "1af926c8-3915-4245-e103-86c1fc833b85"
      },
      "outputs": [
        {
          "output_type": "stream",
          "name": "stdout",
          "text": [
            "기침이있으면 y 없으면 ny\n",
            "체온 입력38.6\n",
            "독감일수도있습니다\n"
          ]
        }
      ],
      "source": [
        "a = input('기침이있으면 y 없으면 n')\n",
        "b = float(input('체온 입력'))\n",
        "if a == 'y'and b >= 38.5 :\n",
        "   print('독감일수도있습니다')\n",
        "\n",
        " "
      ]
    }
  ]
}