{
  "nbformat": 4,
  "nbformat_minor": 0,
  "metadata": {
    "colab": {
      "provenance": [],
      "authorship_tag": "ABX9TyML4HbmfuH2mtILpRdhO6Jx",
      "include_colab_link": true
    },
    "kernelspec": {
      "name": "python3",
      "display_name": "Python 3"
    },
    "language_info": {
      "name": "python"
    }
  },
  "cells": [
    {
      "cell_type": "markdown",
      "metadata": {
        "id": "view-in-github",
        "colab_type": "text"
      },
      "source": [
        "<a href=\"https://colab.research.google.com/github/jnagyeonjun/yeon/blob/main/Untitled8.ipynb\" target=\"_parent\"><img src=\"https://colab.research.google.com/assets/colab-badge.svg\" alt=\"Open In Colab\"/></a>"
      ]
    },
    {
      "cell_type": "code",
      "execution_count": null,
      "metadata": {
        "colab": {
          "base_uri": "https://localhost:8080/"
        },
        "id": "mbsAjNd6xmex",
        "outputId": "66160d06-9ef9-43fd-d46c-95116798d848"
      },
      "outputs": [
        {
          "output_type": "stream",
          "name": "stdout",
          "text": [
            "팅 팅팅팅 탱탱탱 팅팅 탱탱 후라이펜 놀이\n",
            "이름장연준\n",
            "정수5\n",
            "장연준장연준장연준장연준장연준\n",
            "이름장연준\n",
            "정수50\n",
            "장연준장연준장연준장연준장연준장연준장연준장연준장연준장연준장연준장연준장연준장연준장연준장연준장연준장연준장연준장연준장연준장연준장연준장연준장연준장연준장연준장연준장연준장연준장연준장연준장연준장연준장연준장연준장연준장연준장연준장연준장연준장연준장연준장연준장연준장연준장연준장연준장연준장연준\n"
          ]
        }
      ],
      "source": [
        "print('팅 팅팅팅 탱탱탱 팅팅 탱탱 후라이펜 놀이')\n",
        "\n",
        "for i in range(5):\n",
        " \n",
        "  a = input('이름')\n",
        "  b = int(input('정수'))\n",
        "  print(a*b)"
      ]
    },
    {
      "cell_type": "code",
      "source": [],
      "metadata": {
        "id": "DnpGrSFE0UHZ"
      },
      "execution_count": null,
      "outputs": []
    }
  ]
}